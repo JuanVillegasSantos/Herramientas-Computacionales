{
  "cells": [
    {
      "cell_type": "markdown",
      "source": [
        "# Simulador de vuelta e-kart\n",
        "\n",
        "Durante las próximas semanas vamos a estar desarrollando un **simulador de tiempo de vuelta** del kart eléctrico que estamos desarrollando en el departamento. En principio es simulador debería servir para cualquier vehículo, el que sea un kart trae algunas simplificaciones y complicaciones al asunto.  \n",
        "\n",
        "Vamos a estar trabajando en esto poco a poco durante las próximas semanas, en el camino aprendiendo sobre los métodos numéricos aplicables así como un poco de dinámica vehicular.  \n",
        "\n",
        "Vamos a comenzar con modelos sencillos y a medida que vamos avanzando los podemos complicar un poco.  \n",
        "\n",
        "Varios estudiantes han trabajado en este proyecto en semestres anteriores. Vamos a basarnos en los trabajos de Mariana Córdoba (2016) y David Clavijo (2017), sus documentos de grado y sus códigos están disponibles adjunto a este documento.  \n",
        "\n",
        "También hay disponibles en línea gran variedad de modelos y software que sirven para este fin. Por ejemplo:  \n",
        "\n",
        "* [OptimumLap](http://www.optimumg.com/software/optimumlap/)\n",
        "* [FSAESim](http://www.fsaesim.com/documentation.html)\n",
        "* [AMZ - Lap Time Simulation](http://www.matlabexpo.com/de/2016/proceedings/lap-time-simulation-crucial-for-racecar-concept-evaluation.pdf)\n",
        "* [LapSimFE](https://github.com/CalPolyFSAE/LapSimFE)\n",
        "\nPodemos apoyarnos en estos recursos, así como otros que encuentres disponibles pero la idea es que cada uno construya su propio simulador de manera que puedan en el futuro, si así lo desean, adaptarlo a sus propias necesidades.  "
      ],
      "metadata": {
        "collapsed": false,
        "outputHidden": false,
        "inputHidden": false
      }
    },
    {
      "cell_type": "markdown",
      "source": [
        "## Dinámica longitudinal ##\n",
        "\nInicialmente vamos a trabajar en desarrollar un modelo que permita modelar la dinámica longitudinal del vehículo. "
      ],
      "metadata": {
        "collapsed": false,
        "outputHidden": false,
        "inputHidden": false
      }
    }
  ],
  "metadata": {
    "kernelspec": {
      "name": "python3",
      "language": "python",
      "display_name": "Python 3"
    },
    "kernel_info": {
      "name": "python3"
    },
    "language_info": {
      "name": "python",
      "version": "3.6.0",
      "mimetype": "text/x-python",
      "codemirror_mode": {
        "name": "ipython",
        "version": 3
      },
      "pygments_lexer": "ipython3",
      "nbconvert_exporter": "python",
      "file_extension": ".py"
    },
    "nteract": {
      "version": "0.7.1"
    }
  },
  "nbformat": 4,
  "nbformat_minor": 4
}